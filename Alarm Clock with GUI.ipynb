{
 "cells": [
  {
   "cell_type": "code",
   "execution_count": null,
   "id": "c9c81ab8",
   "metadata": {},
   "outputs": [],
   "source": [
    "from tkinter import *\n",
    "import datetime\n",
    "from playsound import *\n",
    "\n",
    "def Alarm(set_alarm_timer):\n",
    "    while True:\n",
    "        actual_time = datetime.datetime.now()\n",
    "        cur_time = actual_time.strftime(\"%H:%M\")\n",
    "        if cur_time == set_alarm_timer:\n",
    "            playsound(\"D:\\\\internship\\\\codeclause\\\\New folder\\\\mixkit-alert-alarm-1005.wav\")\n",
    "            break\n",
    "\n",
    "def get_alarm_time():\n",
    "    alarm_set_time = f\"{hour.get()}:{min.get()}\"\n",
    "    Alarm(alarm_set_time)\n",
    "\n",
    "window = Tk()\n",
    "window.title(\"Alarm Clock\")\n",
    "window.geometry(\"400x200\")\n",
    "window.config(bg=\"blue\")\n",
    "\n",
    "\n",
    "addTime = Label(window,text = \"Hour      :      Min\",font=60,fg=\"white\",bg=\"black\").place(x = 210)\n",
    "setYourAlarm = Label(window,text = \"Set Time for Alarm: \",fg=\"white\",bg=\"#922B21\",relief = \"solid\",font=(\"Helevetica\",15,\"bold\")).place(x=10, y=40)\n",
    "\n",
    "hour = StringVar()\n",
    "min = StringVar()\n",
    "\n",
    "hourTime= Entry(window,textvariable = hour,bg = \"#48C9B0\",width = 4,font=(20)).place(x=210,y=40)\n",
    "minTime= Entry(window,textvariable = min,bg = \"#48C9B0\",width = 4,font=(20)).place(x=270,y=40)\n",
    "\n",
    "submit = Button(window,text = \"Set Your Alarm\",fg=\"Black\",bg=\"#D4AC0D\",width = 15,command = get_alarm_time,font=(20)).place(x =100,y=80)\n",
    "\n",
    "window.mainloop()"
   ]
  },
  {
   "cell_type": "code",
   "execution_count": null,
   "id": "a960a884",
   "metadata": {},
   "outputs": [],
   "source": []
  },
  {
   "cell_type": "code",
   "execution_count": null,
   "id": "d59123b8",
   "metadata": {},
   "outputs": [],
   "source": []
  },
  {
   "cell_type": "code",
   "execution_count": null,
   "id": "be81ab35",
   "metadata": {},
   "outputs": [],
   "source": []
  }
 ],
 "metadata": {
  "kernelspec": {
   "display_name": "Python 3 (ipykernel)",
   "language": "python",
   "name": "python3"
  },
  "language_info": {
   "codemirror_mode": {
    "name": "ipython",
    "version": 3
   },
   "file_extension": ".py",
   "mimetype": "text/x-python",
   "name": "python",
   "nbconvert_exporter": "python",
   "pygments_lexer": "ipython3",
   "version": "3.9.12"
  }
 },
 "nbformat": 4,
 "nbformat_minor": 5
}
